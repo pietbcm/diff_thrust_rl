{
 "cells": [
  {
   "cell_type": "code",
   "execution_count": 1,
   "id": "7e5a3876",
   "metadata": {},
   "outputs": [],
   "source": [
    "import gymnasium as gym\n",
    "import os\n",
    "import sys\n",
    "sys.path.append(\"./jsbgym\")\n",
    "import jsbgym\n",
    "import gymnasium as gym\n",
    "from stable_baselines3 import PPO\n",
    "from stable_baselines3.common.callbacks import BaseCallback\n",
    "from stable_baselines3.common.vec_env import SubprocVecEnv"
   ]
  },
  {
   "cell_type": "code",
   "execution_count": 2,
   "id": "c78d0a36",
   "metadata": {},
   "outputs": [
    {
     "name": "stdout",
     "output_type": "stream",
     "text": [
      "\n",
      "\n",
      "     JSBSim Flight Dynamics Model v1.2.3 Jun  7 2025 19:28:34\n",
      "            [JSBSim-ML v2.0]\n",
      "\n",
      "JSBSim startup beginning ...\n",
      "\n"
     ]
    }
   ],
   "source": [
    "env = gym.make(\"A320-AltitudeHoldTask-Shaping.STANDARD-NoFG-v0\", render_mode=\"human\")\n",
    "\n",
    "CHECKPOINT_DIR = \"./train/engine_alt_hold/\"\n",
    "LOG_DIR = \"./logs/engine_alt_hold/\"\n",
    "\n",
    "env.reset()\n",
    "env.render()"
   ]
  },
  {
   "cell_type": "code",
   "execution_count": null,
   "id": "971c680f",
   "metadata": {},
   "outputs": [
    {
     "name": "stdout",
     "output_type": "stream",
     "text": [
      "\n",
      "\n",
      "     JSBSim Flight Dynamics Model v1.2.3 Jun  7 2025 19:28:34\n",
      "            [JSBSim-ML v2.0]\n",
      "\n",
      "JSBSim startup beginning ...\n",
      "\n"
     ]
    }
   ],
   "source": [
    "gamma = 0.99\n",
    "\n",
    "env = gym.make(\"A320-HdotHoldTask-Shaping.STANDARD-NoFG-v0\", render_mode=None, gamma = gamma)\n",
    "# env = gym.make(\"A320-HdotHoldTask-Shaping.STANDARD-NoFG-v0\", render_mode=\"human\", gamma = gamma)\n",
    "# env = gym.make(\"A320-HdotHoldTask-Shaping.STANDARD-FG-v0\", render_mode=\"human_fg\")\n",
    "\n",
    "CHECKPOINT_DIR = \"./train/engine_hdot_hold/\"\n",
    "LOG_DIR = \"./logs/engine_hdot_hold/\"\n",
    "\n",
    "env.reset()\n",
    "env.render()"
   ]
  },
  {
   "cell_type": "code",
   "execution_count": null,
   "id": "1a353a3e",
   "metadata": {},
   "outputs": [],
   "source": [
    "# Attempt at parallel simulation, didn't work, I think because of JSBSim\n",
    "def make_env():\n",
    "    def _init():\n",
    "        env = gym.make(\"A320-HdotHoldTask-Shaping.STANDARD-NoFG-v0\", render_mode=None, gamma = gamma)\n",
    "        # env.reset()\n",
    "        return env\n",
    "    return _init\n",
    "\n",
    "n_envs = 4\n",
    "env = SubprocVecEnv([make_env() for _ in range(n_envs)])"
   ]
  },
  {
   "cell_type": "code",
   "execution_count": null,
   "id": "60a7ecab",
   "metadata": {},
   "outputs": [],
   "source": [
    "for episode in range(1, 6):\n",
    "    obs, info = env.reset()\n",
    "    done = False\n",
    "    total_reward = 0\n",
    "    while not done:\n",
    "        obs, reward, done, _, info = env.step(env.action_space.sample())\n",
    "        total_reward += reward\n",
    "    print(\"Total Reward for episode {} is {}\".format(episode, total_reward))"
   ]
  },
  {
   "cell_type": "code",
   "execution_count": 4,
   "id": "d819a741",
   "metadata": {},
   "outputs": [],
   "source": [
    "class TrainAndLoggingCallback(BaseCallback):\n",
    "    def __init__(self, check_freq, save_path, verbose=1):\n",
    "        super(TrainAndLoggingCallback, self).__init__(verbose)\n",
    "        self.check_freq = check_freq\n",
    "        self.save_path = save_path\n",
    "\n",
    "    def _init_callback(self):\n",
    "        if self.save_path is not None:\n",
    "            os.makedirs(self.save_path, exist_ok=True)\n",
    "\n",
    "    def _on_step(self):\n",
    "        if self.n_calls % self.check_freq == 0:\n",
    "            model_path = os.path.join(\n",
    "                self.save_path, \"best_model_{}\".format(self.n_calls)\n",
    "            )\n",
    "            self.model.save(model_path)\n",
    "\n",
    "        return True"
   ]
  },
  {
   "cell_type": "code",
   "execution_count": 5,
   "id": "d2ab0033",
   "metadata": {},
   "outputs": [],
   "source": [
    "callback = TrainAndLoggingCallback(check_freq=100000, save_path=CHECKPOINT_DIR)\n",
    "model = PPO(\"MlpPolicy\", env, tensorboard_log=LOG_DIR, device=\"cpu\", gamma=gamma)"
   ]
  },
  {
   "cell_type": "code",
   "execution_count": 8,
   "id": "b80a3ed4",
   "metadata": {
    "scrolled": false
   },
   "outputs": [],
   "source": [
    "model.learn(total_timesteps=1000000, callback=callback)\n",
    "model.save(\"JSBSim_1000000_steps\")"
   ]
  },
  {
   "cell_type": "markdown",
   "id": "734d3b64",
   "metadata": {},
   "source": [
    "## Visualization"
   ]
  },
  {
   "cell_type": "code",
   "execution_count": null,
   "id": "dfa2d86c",
   "metadata": {},
   "outputs": [],
   "source": [
    "env = gym.make(\"A320-AltitudeHoldTask-Shaping.STANDARD-FG-v0\", render_mode=\"human_fg\")\n",
    "env.reset()\n",
    "model = PPO.load(\"JSBSim_1000000_steps.zip\", device=\"cpu\")"
   ]
  },
  {
   "cell_type": "code",
   "execution_count": 18,
   "id": "e6ff6007",
   "metadata": {},
   "outputs": [
    {
     "name": "stdout",
     "output_type": "stream",
     "text": [
      "\n",
      "\n",
      "     JSBSim Flight Dynamics Model v1.2.3 Jun  7 2025 19:28:34\n",
      "            [JSBSim-ML v2.0]\n",
      "\n",
      "JSBSim startup beginning ...\n",
      "\n"
     ]
    },
    {
     "name": "stderr",
     "output_type": "stream",
     "text": [
      "/home/pietbcm/diff_thrust_rl/jsbgym/jsbgym/environment.py:131: UserWarning: If training, use NoFG instead of FG in the env_id. Using FG will cause errors while training after a while.\n",
      "  warnings.warn(\n"
     ]
    }
   ],
   "source": [
    "env = gym.make(\"A320-HdotHoldTask-Shaping.STANDARD-FG-v0\", render_mode=\"human_fg\")\n",
    "env.reset()\n",
    "# model = PPO.load(os.path.join(\"train/engine_hdot_hold\", \"best_model_100000\"), device=\"cpu\")\n",
    "model = PPO.load(\"JSBSim_1000000_steps.zip\", device=\"cpu\")"
   ]
  },
  {
   "cell_type": "code",
   "execution_count": 19,
   "id": "593fd3df",
   "metadata": {},
   "outputs": [],
   "source": [
    "env.render()"
   ]
  },
  {
   "cell_type": "code",
   "execution_count": null,
   "id": "72842db2",
   "metadata": {},
   "outputs": [],
   "source": [
    "for episode in range(1, 6):\n",
    "    obs, _ = env.reset()\n",
    "    done = False\n",
    "    total_reward = 0\n",
    "    while not done:\n",
    "        action, _ = model.predict(obs)\n",
    "        obs, reward, done, _, info = env.step(action)\n",
    "        total_reward += reward\n",
    "    print(\"Total Reward for episode {} is {}\".format(episode, total_reward))"
   ]
  },
  {
   "cell_type": "code",
   "execution_count": 1,
   "id": "f0daa1ab",
   "metadata": {},
   "outputs": [
    {
     "ename": "NameError",
     "evalue": "name 'env' is not defined",
     "output_type": "error",
     "traceback": [
      "\u001b[31m---------------------------------------------------------------------------\u001b[39m",
      "\u001b[31mNameError\u001b[39m                                 Traceback (most recent call last)",
      "\u001b[36mCell\u001b[39m\u001b[36m \u001b[39m\u001b[32mIn[1]\u001b[39m\u001b[32m, line 1\u001b[39m\n\u001b[32m----> \u001b[39m\u001b[32m1\u001b[39m \u001b[43menv\u001b[49m.close()\n",
      "\u001b[31mNameError\u001b[39m: name 'env' is not defined"
     ]
    }
   ],
   "source": [
    "env.close()"
   ]
  }
 ],
 "metadata": {
  "kernelspec": {
   "display_name": "venv",
   "language": "python",
   "name": "python3"
  },
  "language_info": {
   "codemirror_mode": {
    "name": "ipython",
    "version": 3
   },
   "file_extension": ".py",
   "mimetype": "text/x-python",
   "name": "python",
   "nbconvert_exporter": "python",
   "pygments_lexer": "ipython3",
   "version": "3.12.3"
  }
 },
 "nbformat": 4,
 "nbformat_minor": 5
}
